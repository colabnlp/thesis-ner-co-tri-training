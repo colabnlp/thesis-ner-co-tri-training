{
 "cells": [
  {
   "cell_type": "markdown",
   "metadata": {},
   "source": [
    "## For Tweet data set"
   ]
  },
  {
   "cell_type": "code",
   "execution_count": 1,
   "metadata": {},
   "outputs": [],
   "source": [
    "class TweetPreprocessor:\n",
    "    def __init__(self, filename='data/merged_headlines_annos.compact.tsv'):\n",
    "        print(' ------ Preprocssing Tweets corpus ------')\n",
    "        self.file = open(filename, encoding='utf-8')\n",
    "\n",
    "    def get_list_of_sentences_labels(self):\n",
    "        \"\"\"\n",
    "        return : list of sentences : ['I have apple', 'I am here', 'hello ']\n",
    "        return : list of labels : ['O', 'O', 'B-GPE', ...]\n",
    "        \"\"\"\n",
    "        labels, label, sentences, sentence, flat_labels = [], [], [], [], []\n",
    "        for line in self.file:\n",
    "            if line.startswith(\"#\"):\n",
    "                continue\n",
    "            line = line.strip()\n",
    "            splits = line.split(\"\\t\")\n",
    "            if line.startswith(\"NONE\"):\n",
    "                if len(label)>0 and len(sentence)>0:\n",
    "                    sentences.append(\" \".join(sentence))\n",
    "                    labels.append(label)\n",
    "                    sentence = []\n",
    "                    label = []\n",
    "                continue\n",
    "            sentence.append(splits[1])\n",
    "            label.append(splits[3])\n",
    "            flat_labels.append(splits[3])\n",
    "        labels = [list(map(lambda x: x if x != 'NONE' else 'O', i)) for i in labels]\n",
    "        ners_vals = list(map(lambda x: x if x != 'NONE' else 'O', set(flat_labels)))\n",
    "        print(\"Total number of tweets\", len(sentences))\n",
    "        print(\"Total number of ner tags in tweets\", len(ners_vals))\n",
    "        return sentences, labels, ners_vals\n",
    "\n",
    "    def get_tag2idx_idx2tag(self, ners_vals):\n",
    "        \"\"\"\n",
    "        return : dict of tag2idx : {'B-ADD': 0, 'B-AGE': 1, 'B-ART': 2, 'B-CARDINAL': 3,'B-CREAT': 4, ...}\n",
    "        return : dict of idx2tag : inverted\n",
    "        \"\"\"\n",
    "        tag2idx = {t: i for i, t in enumerate(sorted(ners_vals))}\n",
    "        idx2tag = {i: t for t, i in tag2idx.items()}\n",
    "        return tag2idx, idx2tag"
   ]
  },
  {
   "cell_type": "code",
   "execution_count": 2,
   "metadata": {},
   "outputs": [
    {
     "name": "stdout",
     "output_type": "stream",
     "text": [
      " ------ Preprocssing Tweets corpus ------\n",
      "Total number of tweets 8956\n",
      "Total number of ner tags in tweets 63\n"
     ]
    }
   ],
   "source": [
    "filename='data/merged_headlines_annos.compact.tsv'\n",
    "\n",
    "tweet_pre = TweetPreprocessor(filename)\n",
    "sentences, labels, ners_vals = tweet_pre.get_list_of_sentences_labels()\n",
    "tag2idx, idx2tag = tweet_pre.get_tag2idx_idx2tag(ners_vals)"
   ]
  },
  {
   "cell_type": "code",
   "execution_count": 3,
   "metadata": {},
   "outputs": [
    {
     "name": "stdout",
     "output_type": "stream",
     "text": [
      "8956\n",
      "8956\n",
      "https://t.co/ilxFAEWkoK\n",
      "['B-URL']\n",
      "{'B-AGE': 0, 'B-ART': 1, 'B-CARDINAL': 2, 'B-CREAT': 3, 'B-DATE': 4, 'B-DUR': 5, 'B-EVT': 6, 'B-FAC': 7, 'B-FRAC': 8, 'B-FREQ': 9, 'B-GPE': 10, 'B-LAN': 11, 'B-LAW': 12, 'B-LOC': 13, 'B-MED': 14, 'B-MISC': 15, 'B-MON': 16, 'B-NRP': 17, 'B-ORDINAL': 18, 'B-ORG': 19, 'B-PER': 20, 'B-PERC': 21, 'B-PRODUCT': 22, 'B-PROJ': 23, 'B-QUANT': 24, 'B-RATE': 25, 'B-SCORE': 26, 'B-SORD': 27, 'B-TIME': 28, 'B-TITLE': 29, 'B-URL': 30, 'I-AGE': 31, 'I-ART': 32, 'I-CARDINAL': 33, 'I-CREAT': 34, 'I-DATE': 35, 'I-DUR': 36, 'I-EVT': 37, 'I-FAC': 38, 'I-FRAC': 39, 'I-FREQ': 40, 'I-GPE': 41, 'I-LAN': 42, 'I-LAW': 43, 'I-LOC': 44, 'I-MED': 45, 'I-MISC': 46, 'I-MON': 47, 'I-NRP': 48, 'I-ORDINAL': 49, 'I-ORG': 50, 'I-PER': 51, 'I-PERC': 52, 'I-PRODUCT': 53, 'I-PROJ': 54, 'I-QUANT': 55, 'I-RATE': 56, 'I-SCORE': 57, 'I-SORD': 58, 'I-TIME': 59, 'I-TITLE': 60, 'I-URL': 61, 'O': 62}\n",
      "{0: 'B-AGE', 1: 'B-ART', 2: 'B-CARDINAL', 3: 'B-CREAT', 4: 'B-DATE', 5: 'B-DUR', 6: 'B-EVT', 7: 'B-FAC', 8: 'B-FRAC', 9: 'B-FREQ', 10: 'B-GPE', 11: 'B-LAN', 12: 'B-LAW', 13: 'B-LOC', 14: 'B-MED', 15: 'B-MISC', 16: 'B-MON', 17: 'B-NRP', 18: 'B-ORDINAL', 19: 'B-ORG', 20: 'B-PER', 21: 'B-PERC', 22: 'B-PRODUCT', 23: 'B-PROJ', 24: 'B-QUANT', 25: 'B-RATE', 26: 'B-SCORE', 27: 'B-SORD', 28: 'B-TIME', 29: 'B-TITLE', 30: 'B-URL', 31: 'I-AGE', 32: 'I-ART', 33: 'I-CARDINAL', 34: 'I-CREAT', 35: 'I-DATE', 36: 'I-DUR', 37: 'I-EVT', 38: 'I-FAC', 39: 'I-FRAC', 40: 'I-FREQ', 41: 'I-GPE', 42: 'I-LAN', 43: 'I-LAW', 44: 'I-LOC', 45: 'I-MED', 46: 'I-MISC', 47: 'I-MON', 48: 'I-NRP', 49: 'I-ORDINAL', 50: 'I-ORG', 51: 'I-PER', 52: 'I-PERC', 53: 'I-PRODUCT', 54: 'I-PROJ', 55: 'I-QUANT', 56: 'I-RATE', 57: 'I-SCORE', 58: 'I-SORD', 59: 'I-TIME', 60: 'I-TITLE', 61: 'I-URL', 62: 'O'}\n"
     ]
    }
   ],
   "source": [
    "print(len(labels))\n",
    "print(len(sentences))\n",
    "print(sentences[1])\n",
    "print(labels[1])\n",
    "print(tag2idx)\n",
    "print(idx2tag)"
   ]
  },
  {
   "cell_type": "code",
   "execution_count": null,
   "metadata": {},
   "outputs": [],
   "source": []
  },
  {
   "cell_type": "markdown",
   "metadata": {},
   "source": [
    "## For ISW data set"
   ]
  },
  {
   "cell_type": "code",
   "execution_count": 4,
   "metadata": {},
   "outputs": [],
   "source": [
    "import pandas as pd\n",
    "\n",
    "\n",
    "class IswPreprocessor:\n",
    "    def __init__(self, filename):\n",
    "        print(' ------ Preprocssing ISW German corpus ------')\n",
    "        self.row_isw_data = self.load_isw_tsv_file(filename)\n",
    "        self.cleaned_isw_data = self.clean_isw_data()\n",
    "\n",
    "    def load_isw_tsv_file(self, filename='data/test-full-isw-release.tsv'):\n",
    "        isw_data = pd.read_csv(filename, quotechar='\"',\n",
    "                               delimiter=\"\\t\", skiprows=None)\n",
    "        print(\"Total number of rows\", len(isw_data))\n",
    "        print(\"Total number of sentences\", len(isw_data.fileid.unique()))\n",
    "        return isw_data\n",
    "\n",
    "    def clean_isw_data(self, selected_cols=[]):\n",
    "        \"\"\"\n",
    "        :return: clean isw_data\n",
    "        \"\"\"\n",
    "        # Keep only selected cols\n",
    "        selected_cols = ['fileid', 'token', 'lemma', 'ontoNer']\n",
    "        isw_set = self.row_isw_data[selected_cols]\n",
    "\n",
    "        # Clean up incorrect rows  e.g. fileid -> total 82 of it\n",
    "        isw_set = isw_set[isw_set.fileid != \"fileid\"]\n",
    "\n",
    "        # Drop empty token\n",
    "        isw_drop_non = isw_set[isw_set.lemma != \"NONE\"]\n",
    "        isw_drop_non.reset_index(drop=True, inplace=True)\n",
    "\n",
    "        # Replace NONE tag with \"O\"\n",
    "        isw_drop_non['ontoNer'].replace(\n",
    "            to_replace='NONE', value='O', inplace=True)\n",
    "        return isw_drop_non\n",
    "\n",
    "    def get_list_of_sentences(self):\n",
    "        \"\"\"\n",
    "        return : list of sentences : ['I have apple', 'I am here', 'hello ']\n",
    "        \"\"\"\n",
    "        data = self.cleaned_isw_data\n",
    "        # Group the sentence with its fileid\n",
    "        agg_func = lambda s: [(token, lem, ner) for token, lem, ner in zip(s[\"token\"].values.tolist(),\n",
    "                                                    s[\"lemma\"].values.tolist(),\n",
    "                                                    s[\"ontoNer\"].values.tolist())]\n",
    "        grouped = data.groupby(\"fileid\").apply(agg_func)\n",
    "        grouped_all = [s for s in grouped]\n",
    "\n",
    "        sentences = [\" \".join([s[0] for s in sent]) for sent in grouped_all]\n",
    "        return sentences\n",
    "\n",
    "    def get_list_of_nerlabels(self):\n",
    "        \"\"\"\n",
    "        return : list of labels : ['O', 'O', 'B-GPE', ...]\n",
    "        \"\"\"\n",
    "        data = self.cleaned_isw_data\n",
    "        # Group the sentence with its fileid\n",
    "        agg_func = lambda s: [(token, lem, ner) for token, lem, ner in zip(s[\"token\"].values.tolist(),\n",
    "                                                    s[\"lemma\"].values.tolist(),\n",
    "                                                    s[\"ontoNer\"].values.tolist())]\n",
    "        grouped = data.groupby(\"fileid\").apply(agg_func)\n",
    "        grouped_all = [s for s in grouped]\n",
    "\n",
    "        labels = [[s[2] for s in label] for label in grouped_all]\n",
    "\n",
    "        return labels\n",
    "\n",
    "    def get_tag2idx_idx2tag(self):\n",
    "        \"\"\"\n",
    "        return : dict of ner label with idx : {'B-ADD': 0, 'B-AGE': 1, 'B-ART': 2, 'B-CARDINAL': 3,'B-CREAT': 4, ...}\n",
    "        \"\"\"\n",
    "        data = self.cleaned_isw_data\n",
    "        # ners_vals : list of ner labels\n",
    "        ners_vals = list(set(data[\"ontoNer\"].values))\n",
    "        # Set as dict {key:idx}\n",
    "        tag2idx = {t: i for i, t in enumerate(sorted(ners_vals))}\n",
    "        idx2tag = {i: t for t, i in tag2idx.items()}\n",
    "        return tag2idx, idx2tag"
   ]
  },
  {
   "cell_type": "code",
   "execution_count": 5,
   "metadata": {},
   "outputs": [
    {
     "name": "stdout",
     "output_type": "stream",
     "text": [
      " ------ Preprocssing ISW German corpus ------\n",
      "Total number of rows 300684\n",
      "Total number of sentences 84\n"
     ]
    },
    {
     "name": "stderr",
     "output_type": "stream",
     "text": [
      "/Users/steve.chen/opt/anaconda3/envs/ner/lib/python3.6/site-packages/pandas/core/generic.py:6746: SettingWithCopyWarning: \n",
      "A value is trying to be set on a copy of a slice from a DataFrame\n",
      "\n",
      "See the caveats in the documentation: https://pandas.pydata.org/pandas-docs/stable/user_guide/indexing.html#returning-a-view-versus-a-copy\n",
      "  self._update_inplace(new_data)\n"
     ]
    }
   ],
   "source": [
    "FILE_NAME = \"data/test-full-isw-release.tsv\"\n",
    "# Load preprocessed sentences, labels and tag2idx\n",
    "pre = IswPreprocessor(filename=FILE_NAME)\n",
    "\n",
    "sentences = pre.get_list_of_sentences()\n",
    "labels = pre.get_list_of_nerlabels()\n",
    "# Create dicts for mapping from labels to IDs and back\n",
    "tag2idx, idx2tag = pre.get_tag2idx_idx2tag()"
   ]
  },
  {
   "cell_type": "code",
   "execution_count": 6,
   "metadata": {},
   "outputs": [
    {
     "name": "stdout",
     "output_type": "stream",
     "text": [
      "83\n",
      "83\n",
      "Aber Sie haben ja einen sehr schönen Beruf erlernt Sie haben doch reingeschrieben das war eigentlich Ihr Berufswunsch Säuglingsschwester Die Säuglings auf jeden Fall Und da hab ich auch Also ich hab viel zu wenig damit gemacht Das geb ich zu Aber das war eben weil wir nach Ecuador gegangen sind neunzehnfuffzig Ich war in der Hadassa im Spital in der Säuglings äh abteilung nicht dass ich überhaupt keine Ahnung hab Sicher hab ich nur ich hab keine Ahnung wer Ihnen auch erzählen warum denn das ist auch ein Beruf der sich ununterbrochen verändert So wie die Medizin als solche Es Ich hab nicht gewusst dass dieses Jahr also ob es jetzt achtundzeunzig ist das zu Ende geht oder neunundneunzig ist ein Jahr wo die Mütter lernen müssen Babys zu stillen Bis über ein Jahr oder wie haben sie neulich im im Fernsehen gesagt Mindestens ein Jahr Und dazu kann ich Ihnen sagen Also ich hab ein Enkelkind das ist jetzt zehn elf Monate und die stillt den wirklich Aber nicht wegen dem LACHEND Jahr sondern weils Ich hab immer gedacht Sie ist verrückt Um Gottes Himmels Willen wozu braucht sie das Sie schläft in der Nacht nicht durch natürlich nicht weil der schreit MURMELND Sag ich Aber willst du denn nie in der Nacht durchschlafen Aber warum soll ich in der Nacht durchschlafen wollen wenn er gestillt werden will Das hätte eine Mutter vor vor hundert Jahren auch gesagt aber nicht vor fünfzig Auf keinen Fall wie ich gelernt hab Bestimmt nicht Wie wir gelernt haben haben wir gel hat unsere eine Kinderärztin uns unterrichtet und hat gespottet im Spott gesagt Die Orientalen Auf die Orientalen hat man immer runtergeschaut ein bissel leider Die Orientalen stillen ihre Kinder bis dieses Kind äh den Spruch vorm Essen weiß Aber das hat die nicht gesagt als äh Wie schön sondern gespottet hat sie Und dieser Spott ist bei uns picken geblieben natürlich Also Kinder stillt man doch nicht bis sie reden können das ist doch ein Wahnsinn Man hat die Kinder Aber viele Mütter haben überhaupt nicht gestillt sehr viele und das ging durch Jahre hindurch dass die Kinder nicht gestillt wurden sondern man hat ihnen äh die verschieden äh Milchsorten eben gegeben Und sie sind auch groß und stark geworden Haben sie immer gesagt Nun schau ihn doch an er ist auch groß und stark geworden Wozu Wozu Plötzlich kommt da eine neue Geschichte die urururalt ist Und so ist das mit der ganzen Medizin und auch mit der Säuglingspflege ganz bestimmt Man hat die Kinder Meine Kinder noch mussten unter Umständen eine ganze Stunde schreien bis sie wieder gekriegt haben Das ist doch ein Wahnsinn Warum müssen die schreien Die schreien doch nicht ohne Grund Naja und ich war in Ecuador wie die geboren wurden die beiden und hab immer gesagt Na gut das ist ein verrücktes Land das ist ein komisches Land ein verrücktes Land ein ein primitives Land und und Also Säuglingsschwester war ich gern und ich hab auch hier mal eh ausgeholfen volontär Da kann man Das kann man in Spitälern Da sind sie ganz froh wenn man kommt so ohne ohne Gehalt zu verlangen Also was da vorgeht weiß ich schon jetzt mehr oder weniger Aber das mit der Stillerei bis über ein Jahr das ist vollkommen neu Man behauptet nicht nur dass sie also v viel gesünder dadurch bleiben was mir einleuchtet Aber sie LACHEND behaupten auch dass die Kinder intelligenter sind LACHEND Und ob das stimmt das weiß ich wirklich nicht Aber es könnt sein Ich weiß nicht Ist vielleicht eine besondere Form der Zuneigung LACHT LACHEND Ich hab keine Ahnung ich weiß nicht Ich kann da nichts sagen Aber die wenigsten Mütter werden das werden das durchhalten oder Denn die meisten Mütter arbeiten doch Na wie sollen denn die das machen Also Selbständige können das machen nehmen das Kind mit oder so irgendwie aber war doch nicht in Österreich einmal eine eine Parlamentsabgeordnete die das Kind mitgebracht hat Mh Jaja na bitte es gibt alles überall KAFFEETASSEN KLIRREN Ja was kann ich Ihnen noch dienen Womit kann ich Ihnen noch dienen Ahm Sie haben ja erzählt Sie sind alleine weggegangen aus Wien Und hatten Sie Geschwister Ja Ich hatte einen Bruder Der ist leider gestorben vor vier Jahren Der ist nach Also erstens war er in Dachau Der ist 38 verhaftet worden er war 18 Jahre und ist verhaftet worden und ist nach Dachau gekommen Und war solang in Dachau bis er eine Ausreise vorweisen konnte dass er nach Schweden geht um Landwirtschaft zu lernen um nach Palästina nachher zu kommen Und äh wie er aber in Schweden war wie lang kann er da gewesen sein ein Jahr zwei Jahre irgend so etwas hat er sich das überlegt er will in Schweden bleiben und er will gar nicht nach Palästina Und er war dann sehr sogar Also er ist in Schweden tatsächlich geblieben Das konnte man schon Aber er was was mir so unangenehm war dass er er hat nicht auf uns herun auf mich heruntergeschaut dass ich doch nach Palästina gegangen bin Aber er hat gesagt man soll über Tote nicht reden aber das das das hat mich so gekränkt dass ich d ganz gern darüber red dann redt man sich doch ein dann kränkt man sich weniger aber das stimmt auch nicht Er hat seine Bücher vorgeschickt er hatte eine ziemlich große für so ein Kind eine große Bibliothek gehabt Und er wird doch nach Palästina gehen und hat die Bücher vorgeschickt mit irgendeinem Transport die sind tatsächlich hierher angekommen und er eben nicht Und da hat er immer gesagt Ich bin froh s sind nur die Bücher angekommen und nicht ich Das hat mich wahnsinnig gekränkt denn wenn ich nicht hier gewesen wäre dann hätte es mich weniger gekränkt Aber so was sagt man doch nicht Aber manche Menschen sagen eben auch Sachen und überlegen sich nicht ob das den anderen kränkt ja oder nein Ja also das war das ist mit Und mit den Eltern ist überhaupt eine sehr unangenehme Sache denn es war eine schlechte Ehe meiner meiner Eltern Heut darf man das sagen früher war das eine Schande Also es war eine schlechte Ehe ganz bestimmt Und meine Mutter hat wahrscheinlich sehr gelitten darunter was sie uns nie gesagt hätte Gott behüte So was sagt man doch nicht So was sagt man nicht JEMAND SCHNIEFT LEICHT Aber wir haben es gemerkt Und mein meinem Vater ist der Hitler ganz gut gekommen dann ist er nämlich weg Es sind viele Väter als erstes weg denn die Männer waren ja wirklich am gefährdetsten Das stimmt Aber für ihn war das ein anderer Grund Er ist weg weil er sowieso weg wollte Und ist nach Kuba zuerst auch so eine Geschichte wer geht schon nach Kuba Nach Kuba und von Kuba nach Nordamerika Und und von Nordamerika ist er nach Australien In Nordamerika hat er seine zweite Frau geheiratet denn inzwischen war es schon 45 Und man hat schon gewusst dass die Mutter umgekommen ist Also dass sies gar nicht mehr geschafft hat herauszukommen Also die Mutter umgekommen ist und er hat dort eine Frau geheiratet die ich nie gekannt hab und nie kennengelernt hab und von der ist er auch weg LACHT und ist nach Australien und hat die dritte Frau geheiratet Und dann ist er gestorben LACHT Also das sind Meine Tante die Schwester von diesem Mann eben die hat gesagt Reg dich nicht so auf ich hab mich fürchterlich also Zeiten gabs da war ich ganz zum Glück d verebbt dann ein bissl die hat immer gesagt Er kann nichts dafür der wird geheiratet nicht du nimmst ihn in Schutz ist sehr gut Aber was heißt er mu er ist in Fesseln gelegt worden um um die Frauen zu heiraten Was heißt er wird geheiratet Er er wollt sie doch heiraten sonst hätte er sie nicht geheiratet Er hat er hat die Frauen unglücklich gemacht einfach unglücklich gemacht mit ich weiß nicht mit was aber irgendwie Und das ist sehr traurig Das ist wirklich sehr traurig denn aber ich wird wir waren schuld zu zu bis zu einem gewissen Grad vierzehn mein Ich war vierzehn und mein Bruder achtzehn Bis zu einem gewissen Grad sind solche Jugendliche schuldig be für irgendetwas Denn eigentlich sind die Eltern noch verantwortlich für die Kinder in diesem Alter bestimmt Und wir haben gesagt Wir sind Zionisten wir können nur nach Palästina gehen Und das war meinem Vater sehr gut so konnte er sich aus der Affäre ziehen Aber das hätte nicht so sein brauchen Man hätte uns nicht fragen müssen man hätt wär nach Kuba gegangen die ganze Familie vielleicht Denn das wäre irgendwie gegangen Kuba ist damals noch irgendwie gegangen und u und war nicht weiß ich wie wahnsinnig viel Geld damit verbunden Aber wir haben gesagt Wir können nirgends anders hingehen als nach Palästina und dann kommt mein Bruder und sagt ein Glück die Bücher sind dort und er nicht Also d das war meine schreckliche Zeit das darf man nicht vergessen das war ja keine normale Zeit in keiner Beziehung normal wirklich nicht Aber ich geb d meinen Eltern die Schuld dass sie Ich geb meinem Vater die Schuld meiner Mutter nicht Die war viel zu gut Die hat sich alles gfallen lassen wirklich Das is Und dann hat sie mi m Leben bezahlt weil sie nicht mehr rausgekommen ist Und das ist schon sehr traurig das ist und das pickt auf einem Das geht nicht weg So war es Ich glaub jetzt ist fehlt da gar nix dazwischen Fehlt noch irgendwas RÄUSPERT SICH BELEGTE STIMME Sie haben noch nichts zu ihrem Mann RÄUSPERT SICH erzählt Ah mein Mann Mh No mein Mann ist auch äh LACHT wie sagen die Österreicher a Früchterl Aber er is nein er ist ein bi er er ist sehr brav Na er würde sowas nie tun Also so was bestimmt nicht Er würde auch nicht fremdgehen Aber irgendwie er ist er ist nicht sehr lebenstüchtig Das ist er nicht Außerdem ist er ein Phila Phila Philatelist Und die haben alle n Stich Briefmarkensammler Aber ganz spezialisiert Und man schreibt mit der ganzen Welt und man kriegt und man tut und Ausstellungen Das ist eine Krankheit Das ist wie Also man ist wirklich äh ich will nicht sagen süchtig aber aber knapp davor Das kann er nicht lassen das kostet viel Geld sowas Jede Sucht kostet viel Geld Und er sagt zu mir ich verstehe nicht er wird kommen und ich bin einverstanden es auch vor ihm zu sagen denn es ist kein Geheimnis Du redest dir das alles nur ein Das kostet nix Eine Frau weiß doch ob was ko etwas kostet oder nicht LACHT Na gut aber er ist ein braver Vater und und er hat eben immer wieder etwas anderes versucht und nichts ist wirklich Er hat sich mit nichts durchgesetzt sagen wir mal so Da war ein Fehler vielleicht dass wir weggegangen sind neunzehnfünfzig Denn neunzehnfünfzig war dieses Land im Aufbruch Es gab zwar noch nicht viel zu essen es war alles rationiert Das ganze Essen war rationiert und stark rationiert Aber das Land war im Aufbruch Denn es war nach dem Unabhängigkeitskrieg und es war einigermaßen Ruhe und er da er war Elektriker er hat bei der elektrischen Kooperation für also dort die haben das das äh die Elektrizität gemacht damals für das ganze Land Und das Da hat er einen Beruf gehabt auf jeden Fall Und dann sind wir weg und zurückgenommen nach zehn Jahren hat man ihn nicht Denn inzwischen sind ganz andere Sachen gekommen Das ist er konnte den Anschluss nach zehn Jahren nicht mehr finden Und da hat er eben immer wieder was anderes versucht und und es ist nicht gut gegangen nicht genug gut gegangen sagen wir mal Und jetzt ist er Pensionist und es geht Irgendwie muss es doch gehen Wann ist ihr Mann nach Palästina gekommen Ah der ist sogar der ist aus das ist kein Österreicher er ist ein Deutscher Mhm Den haben die Eltern ins Kinderdorf geschickt nach Bet Shemen Ich glaube im Jahr sechsunddreißig schon Und da war a zwei Jahre glaub ich da war a noch ein Kind da der war nicht äh wie ich 15 sondern er war zehn oder irgendso Das war ein Kinderdorf Und dann ist er zurück nach Berlin von dort zurück denn die Eltern waren geschieden inzwischen und er war bei der Mutter und ist dann noch amal hier eingewandert auch mit der Jugend Alija eben in ein Kibbuz hier Kirjat Anavim Das ist hier bei Jerusalem Im Jahr ich glaub achtunddreißig ist er dann wieder hergekommen oder neununddreißig Und dann hat er eben gelernt er hat im am Toten Meer gelernt äh Elektriker Und dann hat er dabei gearbeitet und wenn wir geblieben wären dann dann hätt er da sich weiter entwickelt wahrscheinlich Und nachher wenn da zehn Jahr Wenn man sich zehn Jahre die Hände nicht schmutzig macht an solchen Maschinen dann kann man sie sich auch nicht plötzlich wieder schmutzig machen Auch das ist ein Fakt Aber vor allen Dingen ham sich hat sich doch das ganz anders entwickelt Die Elektronika ist doch dazugekommen die hats doch vorher goar nicht gegeben Ja also so ist das alles ein Schicksal aber ich beklag mich nicht Ah ich hab ja inzwischen habe ich einen neuen Beruf an ah Der kommt glaub ich nicht vor im Fragebogen der neue Beruf Ich hab dann in einem Warenhaus gearbeitet Und das is meine Lebensrettung gewesen sag ich immer wieder Denn da hab ich mich heraufgearbeitet für ab ab zur Abteilungsleiterin und so Ich hab eine Pangsion von denen Und das ist mir sehr wichtig Denn hier ist es so dass der Staat gibt auch eine Pension aber die kriegen alle dieselbe je nachdem wieviel ar Jahre man gearbeitet hat Aber mit Also ich hab ja nicht viele Jahre gearbeitet Wenn man dreißig Jahre gearbeitet hat kriegt man natürlich mehr Aber ich hab ich musste mindestens also ich musste in dieses in diese Geschichte ein hineinrutschen vor meinem fünfzigsten Lebensjahr damit ich mindestens zwölf Jahre hab Dann bin ich äh pensionsberechtigt vom Arbeitsplatz aus und nicht von der Regierung Von der Regierung kommt dann dazu sodass es schon etwas mehr ist weil das Wenige mit dem Wenigen LACHEND dann etwas mehr wird Das ist hier anders wie in Österreich ich weiß I Die Österreicher kriegen nur von einem von einem Platz die Pangsion stimmt das Nein Mhm Wenn ich das so sag oder sie können sich selbst Ja selbst versichern Das kann man hier außerdem natürlich Aber das ist ganz offiziell Nicht jeder Arbeitsplatz bietet das Dass sie auch nach mindestens zwölf Jahren eine Pangsion geben Ah dass man nach mindestens zwölf Jahren pensionsberechtigt wird Und da eine Frau mit sechzig in Pangsion geht muss sie also vor ihrem pf fünfzigsten Lebensjahr anfangen Und da bin ich grad noch so hereingerutscht Und es war nicht leicht Das geb ich zu ich hab acht Stunden gearbeitet Mit und krieg das vorgeworfen von meinem jüngeren Sohn Du warst ja nie zuhaus Obwohl ich schon fuffzig war wie ich da begonnen hab Also wieviel Jahre war ich zuhaus Genau ja versichern lassen LACHT MURMELT Du hast ja immer Er musste wirklich von der Schule nachhaus kommen und sich das Essen warm machen Das stimmt Denn er war noch in der Volksschule TÜR IM ANDERN ZIMMER WIRD GEÖFFNET Ja jetzt kommt mein Mann\n",
      "['O', 'O', 'O', 'O', 'O', 'O', 'O', 'O', 'O', 'O', 'O', 'O', 'O', 'O', 'O', 'O', 'O', 'O', 'O', 'O', 'O', 'O', 'O', 'O', 'O', 'O', 'O', 'O', 'O', 'O', 'O', 'O', 'O', 'O', 'O', 'O', 'O', 'O', 'O', 'O', 'O', 'O', 'O', 'O', 'O', 'O', 'O', 'O', 'B-GPE', 'O', 'O', 'B-DATE', 'O', 'O', 'O', 'O', 'B-ORG', 'O', 'O', 'O', 'O', 'O', 'O', 'O', 'O', 'O', 'O', 'O', 'O', 'O', 'O', 'O', 'O', 'O', 'O', 'O', 'O', 'O', 'O', 'O', 'O', 'O', 'O', 'O', 'O', 'O', 'O', 'O', 'O', 'O', 'O', 'O', 'O', 'O', 'O', 'O', 'O', 'O', 'O', 'O', 'O', 'O', 'O', 'O', 'O', 'O', 'O', 'B-DUR', 'O', 'O', 'O', 'B-TIME', 'B-DATE', 'O', 'O', 'O', 'O', 'O', 'O', 'B-DATE', 'O', 'O', 'B-DUR', 'O', 'O', 'O', 'O', 'O', 'O', 'O', 'O', 'O', 'O', 'O', 'B-DUR', 'O', 'O', 'O', 'O', 'O', 'O', 'O', 'O', 'O', 'O', 'O', 'B-DUR', 'O', 'O', 'O', 'O', 'O', 'O', 'O', 'O', 'O', 'O', 'O', 'O', 'O', 'B-TIME', 'B-AGE', 'I-AGE', 'I-AGE', 'O', 'O', 'O', 'O', 'O', 'O', 'O', 'O', 'O', 'O', 'B-DUR', 'O', 'O', 'O', 'O', 'O', 'O', 'O', 'O', 'O', 'O', 'O', 'O', 'O', 'O', 'O', 'O', 'O', 'O', 'O', 'O', 'O', 'B-DUR', 'O', 'O', 'O', 'O', 'O', 'O', 'O', 'O', 'O', 'O', 'O', 'O', 'O', 'O', 'O', 'O', 'O', 'B-DUR', 'O', 'O', 'O', 'O', 'O', 'O', 'O', 'B-DUR', 'O', 'O', 'O', 'O', 'O', 'O', 'O', 'O', 'O', 'O', 'O', 'O', 'O', 'B-DUR', 'I-DUR', 'O', 'O', 'O', 'O', 'O', 'B-CARDINAL', 'O', 'O', 'O', 'O', 'O', 'O', 'O', 'O', 'O', 'O', 'O', 'O', 'O', 'O', 'O', 'O', 'O', 'O', 'O', 'O', 'O', 'O', 'O', 'O', 'O', 'O', 'O', 'O', 'O', 'B-NRP', 'O', 'O', 'B-NRP', 'O', 'O', 'O', 'O', 'O', 'O', 'O', 'O', 'B-NRP', 'O', 'O', 'O', 'O', 'O', 'O', 'O', 'O', 'O', 'O', 'O', 'O', 'O', 'O', 'O', 'O', 'O', 'O', 'O', 'O', 'O', 'O', 'O', 'O', 'O', 'O', 'O', 'O', 'O', 'O', 'O', 'O', 'O', 'O', 'O', 'O', 'O', 'O', 'O', 'O', 'O', 'O', 'O', 'O', 'O', 'O', 'O', 'O', 'O', 'O', 'O', 'O', 'O', 'O', 'O', 'O', 'O', 'O', 'O', 'O', 'O', 'O', 'O', 'O', 'O', 'O', 'O', 'B-DUR', 'O', 'O', 'O', 'O', 'O', 'O', 'O', 'O', 'O', 'O', 'O', 'O', 'O', 'O', 'O', 'O', 'O', 'O', 'O', 'O', 'O', 'O', 'O', 'O', 'O', 'O', 'O', 'O', 'O', 'O', 'B-TIME', 'O', 'O', 'O', 'O', 'O', 'O', 'O', 'O', 'O', 'O', 'O', 'O', 'O', 'O', 'O', 'O', 'O', 'O', 'O', 'O', 'O', 'O', 'O', 'O', 'O', 'O', 'O', 'O', 'O', 'O', 'O', 'O', 'O', 'O', 'O', 'O', 'O', 'O', 'O', 'O', 'O', 'O', 'O', 'O', 'O', 'O', 'O', 'O', 'O', 'B-DUR', 'O', 'O', 'O', 'O', 'O', 'O', 'O', 'O', 'O', 'O', 'O', 'O', 'O', 'O', 'O', 'O', 'O', 'O', 'O', 'O', 'O', 'O', 'O', 'O', 'O', 'O', 'B-GPE', 'O', 'O', 'O', 'O', 'O', 'O', 'O', 'O', 'O', 'O', 'O', 'O', 'O', 'O', 'O', 'O', 'O', 'O', 'O', 'O', 'O', 'O', 'O', 'O', 'O', 'O', 'O', 'O', 'O', 'O', 'O', 'O', 'O', 'O', 'O', 'O', 'O', 'O', 'O', 'O', 'O', 'B-TIME', 'O', 'O', 'O', 'O', 'O', 'O', 'O', 'O', 'O', 'O', 'O', 'O', 'O', 'O', 'O', 'O', 'O', 'O', 'O', 'O', 'O', 'O', 'O', 'O', 'O', 'O', 'O', 'O', 'O', 'O', 'O', 'O', 'B-TIME', 'O', 'O', 'O', 'O', 'O', 'O', 'O', 'O', 'O', 'O', 'B-AGE', 'I-AGE', 'O', 'O', 'O', 'O', 'O', 'O', 'O', 'O', 'O', 'O', 'O', 'O', 'O', 'O', 'O', 'O', 'O', 'O', 'O', 'O', 'O', 'O', 'O', 'O', 'O', 'O', 'O', 'O', 'O', 'O', 'O', 'O', 'O', 'O', 'O', 'O', 'O', 'O', 'O', 'O', 'O', 'O', 'O', 'O', 'O', 'O', 'O', 'O', 'O', 'O', 'O', 'O', 'O', 'O', 'O', 'O', 'O', 'O', 'O', 'O', 'O', 'O', 'O', 'O', 'O', 'O', 'O', 'O', 'O', 'O', 'O', 'O', 'O', 'O', 'O', 'O', 'O', 'O', 'O', 'O', 'O', 'O', 'O', 'O', 'O', 'O', 'O', 'O', 'O', 'O', 'O', 'O', 'O', 'O', 'O', 'O', 'O', 'O', 'O', 'O', 'O', 'O', 'O', 'O', 'O', 'O', 'O', 'B-GPE', 'B-TIME', 'O', 'O', 'O', 'O', 'O', 'O', 'O', 'O', 'O', 'O', 'O', 'O', 'O', 'O', 'O', 'O', 'O', 'O', 'O', 'O', 'O', 'O', 'O', 'O', 'O', 'O', 'O', 'O', 'O', 'O', 'O', 'O', 'O', 'O', 'O', 'O', 'O', 'O', 'O', 'O', 'O', 'B-GPE', 'O', 'O', 'O', 'O', 'O', 'O', 'O', 'O', 'O', 'O', 'O', 'O', 'O', 'O', 'B-DUR', 'I-DUR', 'O', 'O', 'O', 'O', 'B-ORDINAL', 'O', 'O', 'O', 'B-FAC', 'O', 'O', 'B-DATE', 'O', 'O', 'O', 'O', 'B-AGE', 'I-AGE', 'O', 'O', 'O', 'O', 'O', 'O', 'O', 'B-FAC', 'O', 'O', 'O', 'O', 'O', 'B-FAC', 'O', 'O', 'O', 'O', 'O', 'O', 'O', 'O', 'O', 'B-GPE', 'O', 'O', 'O', 'O', 'O', 'O', 'O', 'B-GPE', 'B-TIME', 'O', 'O', 'O', 'O', 'O', 'O', 'O', 'O', 'B-GPE', 'O', 'O', 'O', 'O', 'O', 'O', 'O', 'O', 'B-DUR', 'I-DUR', 'B-DUR', 'I-DUR', 'O', 'O', 'O', 'O', 'O', 'O', 'O', 'O', 'O', 'O', 'O', 'B-GPE', 'O', 'O', 'O', 'O', 'O', 'O', 'O', 'B-GPE', 'O', 'O', 'O', 'B-TIME', 'O', 'O', 'O', 'O', 'O', 'O', 'B-GPE', 'O', 'O', 'O', 'O', 'O', 'O', 'O', 'O', 'O', 'O', 'O', 'O', 'O', 'O', 'O', 'O', 'O', 'O', 'O', 'O', 'O', 'O', 'O', 'O', 'O', 'O', 'O', 'O', 'O', 'B-GPE', 'O', 'O', 'O', 'O', 'O', 'O', 'O', 'O', 'O', 'O', 'O', 'O', 'O', 'O', 'O', 'O', 'O', 'O', 'O', 'O', 'O', 'O', 'O', 'O', 'O', 'O', 'O', 'O', 'O', 'O', 'O', 'O', 'O', 'O', 'O', 'O', 'O', 'O', 'O', 'O', 'O', 'O', 'O', 'O', 'O', 'O', 'O', 'O', 'O', 'O', 'O', 'O', 'O', 'O', 'O', 'O', 'O', 'O', 'O', 'O', 'O', 'O', 'O', 'O', 'O', 'O', 'B-GPE', 'O', 'O', 'O', 'O', 'O', 'O', 'O', 'O', 'O', 'O', 'O', 'O', 'O', 'O', 'O', 'O', 'O', 'O', 'O', 'O', 'O', 'O', 'O', 'O', 'O', 'O', 'O', 'O', 'O', 'O', 'O', 'O', 'O', 'O', 'O', 'O', 'O', 'O', 'O', 'O', 'O', 'O', 'O', 'O', 'O', 'O', 'O', 'O', 'O', 'O', 'O', 'O', 'O', 'O', 'O', 'O', 'O', 'O', 'O', 'O', 'O', 'O', 'O', 'O', 'O', 'O', 'O', 'O', 'O', 'O', 'O', 'O', 'O', 'O', 'O', 'O', 'O', 'O', 'O', 'O', 'O', 'O', 'O', 'O', 'O', 'O', 'O', 'O', 'O', 'O', 'O', 'O', 'O', 'O', 'O', 'O', 'O', 'O', 'O', 'O', 'O', 'O', 'O', 'O', 'O', 'O', 'B-TIME', 'O', 'O', 'O', 'O', 'B-TIME', 'O', 'O', 'O', 'O', 'O', 'O', 'O', 'O', 'O', 'O', 'O', 'O', 'O', 'O', 'O', 'O', 'O', 'O', 'O', 'O', 'O', 'O', 'O', 'O', 'O', 'O', 'O', 'O', 'O', 'O', 'O', 'O', 'O', 'O', 'O', 'O', 'O', 'O', 'O', 'O', 'O', 'O', 'O', 'O', 'O', 'O', 'O', 'O', 'O', 'O', 'O', 'O', 'O', 'B-PER', 'O', 'O', 'O', 'B-TIME', 'O', 'O', 'O', 'O', 'O', 'O', 'O', 'O', 'O', 'B-ORDINAL', 'O', 'O', 'O', 'O', 'O', 'O', 'O', 'O', 'O', 'O', 'O', 'O', 'O', 'O', 'O', 'O', 'O', 'O', 'O', 'O', 'O', 'O', 'O', 'O', 'O', 'O', 'O', 'O', 'O', 'O', 'B-GPE', 'O', 'O', 'O', 'O', 'O', 'O', 'O', 'O', 'O', 'B-GPE', 'O', 'B-GPE', 'O', 'O', 'B-GPE', 'O', 'B-LOC', 'O', 'O', 'O', 'B-LOC', 'O', 'O', 'O', 'B-GPE', 'O', 'B-LOC', 'O', 'O', 'O', 'B-ORDINAL', 'O', 'O', 'O', 'O', 'O', 'O', 'O', 'B-DATE', 'O', 'O', 'O', 'O', 'O', 'O', 'O', 'O', 'O', 'O', 'O', 'O', 'O', 'O', 'O', 'O', 'O', 'O', 'O', 'O', 'O', 'O', 'O', 'O', 'O', 'O', 'O', 'O', 'O', 'O', 'O', 'O', 'O', 'O', 'O', 'O', 'O', 'O', 'O', 'O', 'O', 'O', 'O', 'O', 'O', 'O', 'O', 'O', 'O', 'O', 'O', 'B-GPE', 'O', 'O', 'O', 'B-ORDINAL', 'O', 'O', 'O', 'B-TIME', 'O', 'O', 'O', 'O', 'O', 'O', 'O', 'O', 'O', 'O', 'O', 'O', 'O', 'O', 'O', 'O', 'O', 'O', 'O', 'O', 'O', 'O', 'O', 'O', 'O', 'O', 'O', 'O', 'B-DUR', 'O', 'O', 'O', 'O', 'O', 'O', 'O', 'O', 'O', 'B-TIME', 'O', 'O', 'O', 'O', 'O', 'O', 'O', 'O', 'O', 'O', 'O', 'O', 'O', 'O', 'O', 'O', 'O', 'O', 'O', 'O', 'O', 'O', 'O', 'O', 'O', 'O', 'O', 'O', 'O', 'O', 'O', 'O', 'O', 'O', 'O', 'O', 'O', 'O', 'O', 'O', 'O', 'O', 'O', 'O', 'O', 'O', 'O', 'O', 'O', 'O', 'O', 'O', 'O', 'O', 'O', 'O', 'O', 'O', 'O', 'O', 'O', 'O', 'O', 'O', 'O', 'O', 'O', 'O', 'O', 'O', 'O', 'O', 'O', 'O', 'O', 'O', 'O', 'O', 'O', 'O', 'O', 'O', 'O', 'O', 'O', 'O', 'O', 'O', 'O', 'O', 'O', 'O', 'O', 'O', 'O', 'O', 'O', 'O', 'O', 'B-AGE', 'O', 'O', 'O', 'B-AGE', 'O', 'O', 'O', 'B-AGE', 'O', 'O', 'O', 'O', 'O', 'O', 'O', 'O', 'O', 'O', 'O', 'O', 'O', 'O', 'O', 'O', 'O', 'O', 'O', 'O', 'O', 'O', 'O', 'O', 'B-AGE', 'O', 'O', 'O', 'O', 'O', 'O', 'O', 'B-NRP', 'O', 'O', 'O', 'O', 'B-GPE', 'O', 'O', 'O', 'O', 'O', 'O', 'O', 'O', 'O', 'O', 'O', 'O', 'O', 'O', 'O', 'O', 'O', 'O', 'O', 'O', 'O', 'O', 'O', 'O', 'O', 'O', 'O', 'O', 'O', 'O', 'O', 'O', 'O', 'B-GPE', 'O', 'O', 'O', 'O', 'O', 'O', 'O', 'O', 'O', 'O', 'B-GPE', 'O', 'B-TIME', 'O', 'O', 'O', 'O', 'O', 'O', 'O', 'O', 'O', 'O', 'O', 'O', 'O', 'O', 'O', 'O', 'O', 'O', 'O', 'O', 'O', 'O', 'O', 'O', 'O', 'O', 'O', 'B-GPE', 'O', 'O', 'O', 'O', 'O', 'O', 'O', 'O', 'O', 'O', 'O', 'O', 'O', 'O', 'O', 'O', 'O', 'O', 'O', 'O', 'O', 'O', 'B-DUR', 'O', 'O', 'O', 'O', 'O', 'O', 'O', 'O', 'O', 'O', 'B-DUR', 'O', 'O', 'O', 'O', 'O', 'O', 'O', 'O', 'O', 'O', 'O', 'O', 'O', 'O', 'O', 'O', 'O', 'O', 'O', 'O', 'O', 'O', 'O', 'O', 'O', 'O', 'O', 'O', 'O', 'O', 'O', 'O', 'O', 'O', 'O', 'O', 'O', 'O', 'O', 'O', 'B-TIME', 'O', 'O', 'O', 'O', 'O', 'O', 'O', 'O', 'O', 'O', 'O', 'O', 'O', 'O', 'O', 'O', 'O', 'O', 'O', 'O', 'O', 'O', 'O', 'O', 'O', 'O', 'O', 'O', 'O', 'O', 'O', 'O', 'O', 'O', 'B-TIME', 'O', 'O', 'O', 'O', 'O', 'O', 'O', 'O', 'O', 'O', 'O', 'O', 'O', 'O', 'O', 'O', 'O', 'O', 'O', 'O', 'O', 'O', 'O', 'O', 'O', 'O', 'O', 'O', 'O', 'O', 'O', 'O', 'O', 'O', 'O', 'O', 'O', 'B-NRP', 'O', 'O', 'O', 'O', 'O', 'O', 'O', 'O', 'O', 'O', 'O', 'O', 'O', 'O', 'O', 'O', 'O', 'O', 'O', 'O', 'O', 'O', 'O', 'O', 'O', 'O', 'O', 'O', 'O', 'O', 'O', 'O', 'O', 'O', 'O', 'O', 'O', 'O', 'O', 'O', 'O', 'O', 'O', 'O', 'O', 'O', 'O', 'O', 'O', 'O', 'O', 'O', 'O', 'O', 'O', 'O', 'O', 'O', 'O', 'O', 'O', 'O', 'O', 'O', 'O', 'O', 'O', 'O', 'O', 'O', 'O', 'O', 'O', 'O', 'O', 'O', 'O', 'O', 'O', 'O', 'O', 'O', 'O', 'O', 'O', 'O', 'O', 'O', 'O', 'O', 'O', 'O', 'O', 'O', 'O', 'O', 'B-TIME', 'O', 'O', 'O', 'O', 'O', 'O', 'O', 'O', 'O', 'O', 'O', 'O', 'O', 'O', 'O', 'O', 'O', 'O', 'O', 'O', 'O', 'O', 'O', 'O', 'O', 'O', 'O', 'O', 'O', 'O', 'O', 'O', 'O', 'O', 'O', 'O', 'O', 'O', 'O', 'O', 'O', 'O', 'O', 'O', 'O', 'O', 'O', 'O', 'O', 'O', 'O', 'O', 'O', 'O', 'O', 'O', 'O', 'O', 'O', 'O', 'O', 'O', 'O', 'O', 'O', 'O', 'O', 'O', 'O', 'O', 'O', 'O', 'O', 'O', 'O', 'O', 'B-SORD', 'I-SORD', 'O', 'O', 'O', 'O', 'O', 'O', 'O', 'O', 'O', 'O', 'O', 'O', 'O', 'O', 'O', 'O', 'O', 'O', 'O', 'O', 'O', 'O', 'O', 'O', 'O', 'O', 'B-DATE', 'O', 'B-DATE', 'O', 'O', 'O', 'O', 'O', 'O', 'O', 'O', 'O', 'O', 'O', 'O', 'O', 'O', 'O', 'O', 'O', 'O', 'O', 'O', 'O', 'O', 'O', 'O', 'O', 'O', 'O', 'O', 'O', 'O', 'O', 'O', 'O', 'O', 'O', 'O', 'B-EVT', 'O', 'O', 'O', 'O', 'O', 'O', 'O', 'O', 'O', 'O', 'O', 'O', 'O', 'O', 'O', 'O', 'O', 'O', 'O', 'O', 'O', 'O', 'O', 'O', 'O', 'O', 'O', 'O', 'B-TIME', 'O', 'O', 'O', 'O', 'O', 'O', 'O', 'O', 'O', 'O', 'O', 'O', 'O', 'O', 'O', 'O', 'B-TIME', 'O', 'O', 'O', 'O', 'O', 'O', 'B-DUR', 'I-DUR', 'O', 'O', 'O', 'O', 'O', 'O', 'O', 'O', 'O', 'O', 'O', 'O', 'O', 'O', 'O', 'O', 'O', 'O', 'B-DUR', 'I-DUR', 'O', 'O', 'O', 'O', 'O', 'O', 'O', 'O', 'B-SORD', 'I-SORD', 'O', 'O', 'O', 'O', 'O', 'O', 'O', 'O', 'O', 'O', 'O', 'O', 'O', 'O', 'O', 'O', 'O', 'O', 'B-TIME', 'O', 'O', 'O', 'O', 'O', 'O', 'O', 'O', 'O', 'O', 'O', 'O', 'O', 'O', 'O', 'O', 'B-GPE', 'O', 'O', 'O', 'O', 'O', 'O', 'O', 'O', 'O', 'O', 'O', 'B-NRP', 'O', 'O', 'O', 'B-NRP', 'O', 'O', 'O', 'O', 'O', 'O', 'O', 'O', 'O', 'B-GPE', 'I-GPE', 'O', 'O', 'O', 'B-DATE', 'I-DATE', 'O', 'O', 'O', 'O', 'O', 'B-DUR', 'I-DUR', 'O', 'O', 'O', 'O', 'O', 'O', 'O', 'O', 'O', 'O', 'O', 'O', 'O', 'O', 'O', 'B-AGE', 'O', 'O', 'O', 'B-AGE', 'O', 'O', 'O', 'O', 'O', 'O', 'O', 'B-TIME', 'O', 'O', 'O', 'O', 'B-GPE', 'O', 'O', 'O', 'O', 'O', 'O', 'O', 'O', 'O', 'O', 'O', 'O', 'O', 'O', 'O', 'O', 'O', 'B-TIME', 'O', 'O', 'O', 'O', 'O', 'O', 'O', 'B-ORG', 'I-ORG', 'O', 'O', 'O', 'O', 'O', 'B-GPE', 'I-GPE', 'O', 'O', 'O', 'O', 'B-GPE', 'O', 'O', 'O', 'O', 'B-DATE', 'O', 'O', 'B-TIME', 'B-SORD', 'O', 'O', 'B-DATE', 'O', 'B-TIME', 'O', 'O', 'O', 'O', 'O', 'O', 'O', 'O', 'B-LOC', 'I-LOC', 'O', 'O', 'O', 'O', 'B-TIME', 'O', 'O', 'O', 'O', 'O', 'O', 'O', 'O', 'O', 'O', 'O', 'O', 'O', 'O', 'O', 'O', 'O', 'O', 'O', 'B-TIME', 'O', 'O', 'B-DUR', 'I-DUR', 'O', 'O', 'O', 'B-DUR', 'I-DUR', 'O', 'O', 'O', 'O', 'O', 'O', 'O', 'O', 'O', 'O', 'O', 'O', 'O', 'O', 'O', 'O', 'B-SORD', 'O', 'O', 'O', 'O', 'O', 'O', 'O', 'O', 'O', 'O', 'O', 'O', 'O', 'O', 'O', 'O', 'O', 'O', 'O', 'O', 'O', 'O', 'O', 'O', 'O', 'O', 'O', 'O', 'B-TIME', 'O', 'O', 'O', 'O', 'O', 'O', 'O', 'O', 'O', 'O', 'O', 'O', 'O', 'O', 'O', 'O', 'O', 'O', 'O', 'O', 'O', 'O', 'O', 'O', 'O', 'O', 'O', 'O', 'O', 'O', 'O', 'O', 'O', 'O', 'O', 'O', 'O', 'O', 'O', 'O', 'O', 'B-TIME', 'O', 'O', 'O', 'O', 'O', 'O', 'O', 'O', 'O', 'O', 'O', 'O', 'B-SORD', 'I-SORD', 'O', 'O', 'O', 'O', 'O', 'O', 'O', 'O', 'O', 'O', 'O', 'O', 'O', 'O', 'O', 'O', 'O', 'O', 'O', 'O', 'O', 'O', 'O', 'O', 'O', 'O', 'O', 'O', 'O', 'O', 'O', 'O', 'O', 'O', 'O', 'O', 'O', 'O', 'O', 'O', 'O', 'O', 'O', 'O', 'O', 'O', 'B-DUR', 'O', 'O', 'O', 'O', 'O', 'O', 'O', 'O', 'O', 'O', 'B-DUR', 'I-DUR', 'O', 'O', 'O', 'B-DUR', 'I-DUR', 'O', 'O', 'O', 'O', 'O', 'O', 'O', 'O', 'O', 'O', 'O', 'O', 'O', 'O', 'O', 'O', 'O', 'O', 'O', 'O', 'O', 'O', 'O', 'O', 'B-AGE', 'I-AGE', 'O', 'O', 'O', 'B-DUR', 'I-DUR', 'O', 'O', 'O', 'O', 'O', 'O', 'O', 'O', 'O', 'O', 'O', 'O', 'O', 'O', 'O', 'O', 'O', 'O', 'O', 'O', 'O', 'O', 'O', 'O', 'O', 'O', 'O', 'O', 'O', 'O', 'O', 'O', 'O', 'O', 'O', 'O', 'O', 'O', 'O', 'O', 'O', 'O', 'O', 'B-GPE', 'O', 'O', 'O', 'O', 'B-NRP', 'O', 'O', 'O', 'O', 'O', 'O', 'O', 'O', 'O', 'O', 'O', 'O', 'O', 'O', 'O', 'O', 'O', 'O', 'O', 'O', 'O', 'O', 'O', 'O', 'O', 'O', 'O', 'O', 'O', 'O', 'O', 'O', 'O', 'O', 'O', 'O', 'O', 'O', 'O', 'O', 'O', 'O', 'O', 'O', 'O', 'O', 'O', 'B-DUR', 'I-DUR', 'O', 'O', 'O', 'O', 'O', 'O', 'O', 'O', 'B-DUR', 'I-DUR', 'O', 'O', 'O', 'O', 'O', 'O', 'O', 'B-AGE', 'O', 'O', 'O', 'O', 'O', 'O', 'O', 'O', 'O', 'B-AGE', 'I-AGE', 'O', 'O', 'O', 'O', 'O', 'O', 'O', 'O', 'O', 'O', 'O', 'O', 'O', 'O', 'O', 'O', 'O', 'O', 'O', 'O', 'B-DUR', 'I-DUR', 'O', 'O', 'O', 'O', 'O', 'O', 'O', 'O', 'O', 'O', 'O', 'O', 'O', 'O', 'O', 'O', 'O', 'O', 'B-AGE', 'O', 'O', 'O', 'O', 'O', 'O', 'O', 'O', 'B-DUR', 'O', 'O', 'O', 'O', 'O', 'O', 'O', 'O', 'O', 'O', 'O', 'O', 'O', 'O', 'O', 'O', 'O', 'O', 'O', 'O', 'O', 'O', 'O', 'O', 'O', 'O', 'O', 'O', 'O', 'O', 'O', 'O', 'O', 'O', 'O', 'O', 'O', 'O', 'O', 'O', 'O', 'O', 'O', 'B-TIME', 'O', 'O', 'O']\n",
      "{'B-ADD': 0, 'B-AGE': 1, 'B-ART': 2, 'B-CARDINAL': 3, 'B-CREAT': 4, 'B-DATE': 5, 'B-DUR': 6, 'B-EVT': 7, 'B-FAC': 8, 'B-FRAC': 9, 'B-FREQ': 10, 'B-GPE': 11, 'B-LAN': 12, 'B-LAW': 13, 'B-LOC': 14, 'B-MED': 15, 'B-MISC': 16, 'B-MON': 17, 'B-NRP': 18, 'B-ORDINAL': 19, 'B-ORG': 20, 'B-PER': 21, 'B-PERC': 22, 'B-PRODUCT': 23, 'B-PROJ': 24, 'B-QUANT': 25, 'B-RATE': 26, 'B-SORD': 27, 'B-TIME': 28, 'B-TITLE': 29, 'I-ADD': 30, 'I-AGE': 31, 'I-ART': 32, 'I-CARDINAL': 33, 'I-DATE': 34, 'I-DUR': 35, 'I-EVT': 36, 'I-FAC': 37, 'I-FRAC': 38, 'I-FREQ': 39, 'I-GPE': 40, 'I-LAN': 41, 'I-LAW': 42, 'I-LOC': 43, 'I-MED': 44, 'I-MISC': 45, 'I-MON': 46, 'I-NRP': 47, 'I-ORDINAL': 48, 'I-ORG': 49, 'I-PER': 50, 'I-PERC': 51, 'I-PRODUCT': 52, 'I-PROJ': 53, 'I-QUANT': 54, 'I-RATE': 55, 'I-SORD': 56, 'I-TIME': 57, 'I-TITLE': 58, 'O': 59}\n",
      "{0: 'B-ADD', 1: 'B-AGE', 2: 'B-ART', 3: 'B-CARDINAL', 4: 'B-CREAT', 5: 'B-DATE', 6: 'B-DUR', 7: 'B-EVT', 8: 'B-FAC', 9: 'B-FRAC', 10: 'B-FREQ', 11: 'B-GPE', 12: 'B-LAN', 13: 'B-LAW', 14: 'B-LOC', 15: 'B-MED', 16: 'B-MISC', 17: 'B-MON', 18: 'B-NRP', 19: 'B-ORDINAL', 20: 'B-ORG', 21: 'B-PER', 22: 'B-PERC', 23: 'B-PRODUCT', 24: 'B-PROJ', 25: 'B-QUANT', 26: 'B-RATE', 27: 'B-SORD', 28: 'B-TIME', 29: 'B-TITLE', 30: 'I-ADD', 31: 'I-AGE', 32: 'I-ART', 33: 'I-CARDINAL', 34: 'I-DATE', 35: 'I-DUR', 36: 'I-EVT', 37: 'I-FAC', 38: 'I-FRAC', 39: 'I-FREQ', 40: 'I-GPE', 41: 'I-LAN', 42: 'I-LAW', 43: 'I-LOC', 44: 'I-MED', 45: 'I-MISC', 46: 'I-MON', 47: 'I-NRP', 48: 'I-ORDINAL', 49: 'I-ORG', 50: 'I-PER', 51: 'I-PERC', 52: 'I-PRODUCT', 53: 'I-PROJ', 54: 'I-QUANT', 55: 'I-RATE', 56: 'I-SORD', 57: 'I-TIME', 58: 'I-TITLE', 59: 'O'}\n"
     ]
    }
   ],
   "source": [
    "print(len(labels))\n",
    "print(len(sentences))\n",
    "print(sentences[1])\n",
    "print(labels[1])\n",
    "print(tag2idx)\n",
    "print(idx2tag)"
   ]
  },
  {
   "cell_type": "code",
   "execution_count": null,
   "metadata": {},
   "outputs": [],
   "source": []
  },
  {
   "cell_type": "code",
   "execution_count": null,
   "metadata": {},
   "outputs": [],
   "source": []
  },
  {
   "cell_type": "code",
   "execution_count": null,
   "metadata": {},
   "outputs": [],
   "source": []
  },
  {
   "cell_type": "code",
   "execution_count": null,
   "metadata": {},
   "outputs": [],
   "source": []
  },
  {
   "cell_type": "code",
   "execution_count": null,
   "metadata": {},
   "outputs": [],
   "source": []
  },
  {
   "cell_type": "code",
   "execution_count": null,
   "metadata": {},
   "outputs": [],
   "source": []
  },
  {
   "cell_type": "code",
   "execution_count": null,
   "metadata": {},
   "outputs": [],
   "source": []
  }
 ],
 "metadata": {
  "kernelspec": {
   "display_name": "Python 3",
   "language": "python",
   "name": "python3"
  },
  "language_info": {
   "codemirror_mode": {
    "name": "ipython",
    "version": 3
   },
   "file_extension": ".py",
   "mimetype": "text/x-python",
   "name": "python",
   "nbconvert_exporter": "python",
   "pygments_lexer": "ipython3",
   "version": "3.6.7"
  }
 },
 "nbformat": 4,
 "nbformat_minor": 4
}
